{
 "cells": [
  {
   "cell_type": "code",
   "execution_count": 1,
   "metadata": {},
   "outputs": [
    {
     "name": "stdout",
     "output_type": "stream",
     "text": [
      "loading dictionary from ./experiment_real/data/dictionary.pkl\n",
      "loading features from h5 file\n"
     ]
    }
   ],
   "source": [
    "from IPython.display import display\n",
    "import os\n",
    "os.chdir('./../')\n",
    "exp = './experiment_real/'\n",
    "from experiment_real.dataset import Dictionary, VQAFeatureDataset\n",
    "dictionary = Dictionary.load_from_file(exp+'data/dictionary.pkl')\n",
    "train_dset = VQAFeatureDataset('train', dictionary, dataroot=exp+'data/')\n",
    "import pandas as pd\n",
    "os.chdir('./visualization/')\n",
    "import numpy as np\n",
    "pd.options.display.max_rows = None\n",
    "import json\n",
    "from collections import Counter"
   ]
  },
  {
   "cell_type": "code",
   "execution_count": 3,
   "metadata": {},
   "outputs": [],
   "source": [
    "with open('./../experiment_real/data/v2_mscoco_train2014_annotations.json') as file:\n",
    "    original_questions = json.load(file)"
   ]
  },
  {
   "cell_type": "code",
   "execution_count": 4,
   "metadata": {},
   "outputs": [],
   "source": [
    "data = pd.read_csv('./data/responses_real_train', sep='\\t', header=None)"
   ]
  },
  {
   "cell_type": "code",
   "execution_count": 5,
   "metadata": {},
   "outputs": [],
   "source": [
    "data[2048] = data[2048].astype(int) \n",
    "data.sort_values(by=2048, inplace=True)"
   ]
  },
  {
   "cell_type": "code",
   "execution_count": 6,
   "metadata": {},
   "outputs": [],
   "source": [
    "original_questions['annotations'].sort(key= lambda x: int(x['question_id']))"
   ]
  },
  {
   "cell_type": "code",
   "execution_count": 7,
   "metadata": {},
   "outputs": [
    {
     "data": {
      "text/plain": [
       "443757"
      ]
     },
     "execution_count": 7,
     "metadata": {},
     "output_type": "execute_result"
    }
   ],
   "source": [
    "len(original_questions['annotations'])"
   ]
  },
  {
   "cell_type": "code",
   "execution_count": 8,
   "metadata": {},
   "outputs": [
    {
     "data": {
      "text/plain": [
       "443757"
      ]
     },
     "execution_count": 8,
     "metadata": {},
     "output_type": "execute_result"
    }
   ],
   "source": [
    "types = [q['question_type'] for q in original_questions['annotations']]\n",
    "count_types = Counter(types)\n",
    "check_type_order = sorted(list(set(count_types)))[::-1]\n",
    "questions = [q['question'] for q in train_dset.entries]\n",
    "\n",
    "outliers = []\n",
    "for q in questions:\n",
    "    add = True\n",
    "    for t in check_type_order:\n",
    "        if t in q.lower():\n",
    "            add = False\n",
    "            break\n",
    "    if add:\n",
    "        outliers.append(q.lower())\n",
    "        \n",
    "new_types = Counter([' '.join(w.strip().split()[:2]).strip() for w in outliers]).keys()\n",
    "count_types.update(new_types)\n",
    "check_type_order = sorted(list(set(count_types)))[::-1]\n",
    "\n",
    "questions_types = []\n",
    "for q in questions:\n",
    "    add = True\n",
    "    for t in check_type_order:\n",
    "        if t in q.replace('  ',' ').lower():\n",
    "            questions_types.append(t)\n",
    "            add = False\n",
    "            break\n",
    "    if add:\n",
    "        print(q)\n",
    "len(questions_types)"
   ]
  },
  {
   "cell_type": "code",
   "execution_count": 9,
   "metadata": {},
   "outputs": [
    {
     "data": {
      "text/plain": [
       "(443757, 2049)"
      ]
     },
     "execution_count": 9,
     "metadata": {},
     "output_type": "execute_result"
    }
   ],
   "source": [
    "data.shape"
   ]
  },
  {
   "cell_type": "code",
   "execution_count": 10,
   "metadata": {},
   "outputs": [],
   "source": [
    "data['q_type'] = questions_types"
   ]
  },
  {
   "cell_type": "code",
   "execution_count": 11,
   "metadata": {},
   "outputs": [],
   "source": [
    "data.to_csv('data/real_q_types_features_train.csv', header=None, index=None)"
   ]
  },
  {
   "cell_type": "code",
   "execution_count": null,
   "metadata": {},
   "outputs": [],
   "source": []
  }
 ],
 "metadata": {
  "kernelspec": {
   "display_name": "Environment (conda_anaconda2)",
   "language": "python",
   "name": "conda_anaconda2"
  },
  "language_info": {
   "codemirror_mode": {
    "name": "ipython",
    "version": 2
   },
   "file_extension": ".py",
   "mimetype": "text/x-python",
   "name": "python",
   "nbconvert_exporter": "python",
   "pygments_lexer": "ipython2",
   "version": "2.7.15"
  }
 },
 "nbformat": 4,
 "nbformat_minor": 2
}
