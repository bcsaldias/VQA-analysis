{
 "cells": [
  {
   "cell_type": "code",
   "execution_count": 1,
   "metadata": {},
   "outputs": [
    {
     "name": "stdout",
     "output_type": "stream",
     "text": [
      "loading dictionary from ./experiment_abstract/data/dictionary.pkl\n",
      "loading features from h5 file\n",
      "answer_path ./experiment_abstract/data/cache/val_target.pkl\n"
     ]
    }
   ],
   "source": [
    "# can be a way better snippet of code :') \n",
    "from IPython.display import display\n",
    "import os\n",
    "os.chdir('./../')\n",
    "exp = './experiment_abstract/'\n",
    "from experiment_abstract.dataset import Dictionary, VQAFeatureDataset\n",
    "dictionary = Dictionary.load_from_file(exp+'data/dictionary.pkl')\n",
    "train_dset = VQAFeatureDataset('val', dictionary, dataroot=exp+'data/')\n",
    "import pandas as pd\n",
    "os.chdir('./visualization/')\n",
    "data = pd.read_csv('./data/responses_abstract_val', sep='\\t', header=None)\n",
    "import numpy as np\n",
    "pd.options.display.max_rows = None\n",
    "import json\n",
    "from collections import Counter"
   ]
  },
  {
   "cell_type": "code",
   "execution_count": 2,
   "metadata": {},
   "outputs": [],
   "source": [
    "with open('./../experiment_abstract/data/abstract_v002_val2015_annotations.json') as file:\n",
    "    original_questions = json.load(file)"
   ]
  },
  {
   "cell_type": "code",
   "execution_count": 3,
   "metadata": {},
   "outputs": [],
   "source": [
    "original_questions['annotations'].sort(key= lambda x: int(x['question_id']))"
   ]
  },
  {
   "cell_type": "code",
   "execution_count": 4,
   "metadata": {},
   "outputs": [
    {
     "data": {
      "text/plain": [
       "((30000, 2049), 30000)"
      ]
     },
     "execution_count": 4,
     "metadata": {},
     "output_type": "execute_result"
    }
   ],
   "source": [
    "data.shape, len(original_questions['annotations'])"
   ]
  },
  {
   "cell_type": "code",
   "execution_count": 5,
   "metadata": {},
   "outputs": [],
   "source": [
    "data[2048] = data[2048].astype(int) \n",
    "data.sort_values(by=2048, inplace=True)"
   ]
  },
  {
   "cell_type": "code",
   "execution_count": 6,
   "metadata": {},
   "outputs": [
    {
     "data": {
      "text/plain": [
       "30000"
      ]
     },
     "execution_count": 6,
     "metadata": {},
     "output_type": "execute_result"
    }
   ],
   "source": [
    "types = [q['question_type'] for q in original_questions['annotations']] #' '.join(q['question_type'].split()[:2])\n",
    "count_types = Counter(types)\n",
    "check_type_order = sorted(list(set(count_types)))[::-1]\n",
    "questions = [q['question'] for q in train_dset.entries]\n",
    "\n",
    "outliers = []\n",
    "for q in questions:\n",
    "    add = True\n",
    "    for t in check_type_order:\n",
    "        if t in q.lower():\n",
    "            add = False\n",
    "            break\n",
    "    if add:\n",
    "        outliers.append(q.lower())\n",
    "        \n",
    "new_types = Counter([' '.join(w.strip().split()[:2]).strip() for w in outliers]).keys()\n",
    "count_types.update(new_types)\n",
    "check_type_order = sorted(list(set(count_types)))[::-1]\n",
    "\n",
    "questions_types = []\n",
    "for q in questions:\n",
    "    add = True\n",
    "    for t in check_type_order:\n",
    "        if t in q.replace('  ',' ').lower():\n",
    "            questions_types.append(t)\n",
    "            add = False\n",
    "            break\n",
    "    if add:\n",
    "        print(q)\n",
    "len(questions_types)"
   ]
  },
  {
   "cell_type": "code",
   "execution_count": null,
   "metadata": {},
   "outputs": [],
   "source": []
  },
  {
   "cell_type": "code",
   "execution_count": 7,
   "metadata": {},
   "outputs": [],
   "source": [
    "data['q_type'] = questions_types"
   ]
  },
  {
   "cell_type": "code",
   "execution_count": 8,
   "metadata": {},
   "outputs": [],
   "source": [
    "data.to_csv('data/abstract_q_types_features_val.csv', header=None, index=None)"
   ]
  },
  {
   "cell_type": "code",
   "execution_count": null,
   "metadata": {},
   "outputs": [],
   "source": []
  }
 ],
 "metadata": {
  "kernelspec": {
   "display_name": "Environment (conda_anaconda2)",
   "language": "python",
   "name": "conda_anaconda2"
  },
  "language_info": {
   "codemirror_mode": {
    "name": "ipython",
    "version": 2
   },
   "file_extension": ".py",
   "mimetype": "text/x-python",
   "name": "python",
   "nbconvert_exporter": "python",
   "pygments_lexer": "ipython2",
   "version": "2.7.15"
  }
 },
 "nbformat": 4,
 "nbformat_minor": 2
}
