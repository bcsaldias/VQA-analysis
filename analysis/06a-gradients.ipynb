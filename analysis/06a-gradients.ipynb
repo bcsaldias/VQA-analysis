{
 "cells": [
  {
   "cell_type": "code",
   "execution_count": 1,
   "metadata": {},
   "outputs": [
    {
     "name": "stdout",
     "output_type": "stream",
     "text": [
      "ok\n",
      "loading dictionary from ./experiment_abstract/data/dictionary.pkl\n",
      "loading features from h5 file\n",
      "answer_path ./experiment_abstract/data/cache/train_target.pkl\n",
      "loading features from h5 file\n",
      "answer_path ./experiment_abstract/data/cache/val_target.pkl\n"
     ]
    }
   ],
   "source": [
    "import argparse\n",
    "import torch\n",
    "import torch.nn as nn\n",
    "from torch.utils.data import DataLoader\n",
    "import numpy as np\n",
    "from torch.autograd import Variable\n",
    "import os\n",
    "import sys\n",
    "sys.path.insert(0, './../')\n",
    "from experiment_abstract.dataset import Dictionary, VQAFeatureDataset\n",
    "import model_predict as base_model\n",
    "print('ok')\n",
    "os.chdir('./../')\n",
    "exp = './experiment_abstract/'\n",
    "\n",
    "\n",
    "torch.manual_seed(1111)\n",
    "torch.cuda.manual_seed(1111)\n",
    "torch.backends.cudnn.benchmark = True\n",
    "\n",
    "\n",
    "dictionary = Dictionary.load_from_file(exp+'data/dictionary.pkl')\n",
    "train_dset = VQAFeatureDataset('train', dictionary, dataroot=exp+'data/')\n",
    "eval_dset = VQAFeatureDataset('val', dictionary, dataroot=exp+'data/')\n",
    "batch_size = 512\n",
    "num_hid = 1024"
   ]
  },
  {
   "cell_type": "code",
   "execution_count": 2,
   "metadata": {},
   "outputs": [],
   "source": [
    "constructor = 'build_baseline0_newatt'\n",
    "model = getattr(base_model, constructor)(train_dset, num_hid).cuda()\n",
    "model.w_emb.init_embedding(exp+'data/glove6b_init_300d.npy')\n",
    "train_loader = DataLoader(train_dset, batch_size, shuffle=True, num_workers=1)\n",
    "eval_loader =  DataLoader(eval_dset, batch_size, shuffle=True, num_workers=1)"
   ]
  },
  {
   "cell_type": "code",
   "execution_count": 3,
   "metadata": {},
   "outputs": [],
   "source": [
    "model_path = exp+'saved_models/my_model_2/model.pth'\n",
    "model_params = torch.load(model_path)"
   ]
  },
  {
   "cell_type": "code",
   "execution_count": 4,
   "metadata": {},
   "outputs": [
    {
     "data": {
      "text/plain": [
       "['module.w_emb.emb.weight',\n",
       " 'module.q_emb.rnn.weight_ih_l0',\n",
       " 'module.q_emb.rnn.weight_hh_l0']"
      ]
     },
     "execution_count": 4,
     "metadata": {},
     "output_type": "execute_result"
    }
   ],
   "source": [
    "model_params.keys()[:3]"
   ]
  },
  {
   "cell_type": "code",
   "execution_count": 5,
   "metadata": {},
   "outputs": [],
   "source": [
    "model = nn.DataParallel(model).cuda()\n",
    "model.load_state_dict(model_params)"
   ]
  },
  {
   "cell_type": "code",
   "execution_count": 6,
   "metadata": {},
   "outputs": [],
   "source": [
    "model.eval()\n",
    "pass"
   ]
  },
  {
   "cell_type": "code",
   "execution_count": 7,
   "metadata": {},
   "outputs": [],
   "source": [
    "from train import train"
   ]
  },
  {
   "cell_type": "code",
   "execution_count": 8,
   "metadata": {
    "scrolled": true
   },
   "outputs": [
    {
     "name": "stderr",
     "output_type": "stream",
     "text": [
      "train.py:65: UserWarning: torch.nn.utils.clip_grad_norm is now deprecated in favor of torch.nn.utils.clip_grad_norm_.\n",
      "  nn.utils.clip_grad_norm(model.parameters(), 0.25)\n",
      "train.py:70: UserWarning: invalid index of a 0-dim tensor. This will be an error in PyTorch 0.5. Use tensor.item() to convert a 0-dim tensor to a Python number\n",
      "  total_loss += loss.data[0] * v.size(0)\n"
     ]
    },
    {
     "name": "stdout",
     "output_type": "stream",
     "text": [
      "epoch 0, time: 39.24\n",
      "\ttrain_loss: 0.92, score: 91.38\n",
      "\teval score: 70.47 (95.73)\n"
     ]
    }
   ],
   "source": [
    "train(model, train_loader, eval_loader, num_epochs=1, output=None)"
   ]
  },
  {
   "cell_type": "code",
   "execution_count": 11,
   "metadata": {},
   "outputs": [
    {
     "data": {
      "text/plain": [
       "tensor([ 0.0139,  0.0230,  0.0051,  ..., -0.0344, -0.0007,  0.0144], device='cuda:0')"
      ]
     },
     "execution_count": 11,
     "metadata": {},
     "output_type": "execute_result"
    }
   ],
   "source": [
    "model_params['module.classifier.main.0.bias']"
   ]
  },
  {
   "cell_type": "code",
   "execution_count": null,
   "metadata": {},
   "outputs": [],
   "source": []
  },
  {
   "cell_type": "code",
   "execution_count": null,
   "metadata": {},
   "outputs": [],
   "source": []
  },
  {
   "cell_type": "code",
   "execution_count": null,
   "metadata": {},
   "outputs": [],
   "source": []
  },
  {
   "cell_type": "code",
   "execution_count": null,
   "metadata": {},
   "outputs": [],
   "source": []
  },
  {
   "cell_type": "code",
   "execution_count": 31,
   "metadata": {},
   "outputs": [],
   "source": [
    "model_params['module.classifier.main.3.weight_v'].grad#.sum(0)"
   ]
  },
  {
   "cell_type": "code",
   "execution_count": null,
   "metadata": {},
   "outputs": [],
   "source": []
  },
  {
   "cell_type": "code",
   "execution_count": 12,
   "metadata": {},
   "outputs": [
    {
     "data": {
      "text/plain": [
       "Sequential(\n",
       "  (0): Linear(in_features=2048, out_features=2048, bias=True)\n",
       "  (1): ReLU()\n",
       "  (2): Dropout(p=0.5, inplace)\n",
       "  (3): Linear(in_features=2048, out_features=426, bias=True)\n",
       ")"
      ]
     },
     "execution_count": 12,
     "metadata": {},
     "output_type": "execute_result"
    }
   ],
   "source": [
    "model.module.classifier.main#[3].grad"
   ]
  },
  {
   "cell_type": "code",
   "execution_count": 35,
   "metadata": {},
   "outputs": [],
   "source": [
    "params = list(model.parameters())"
   ]
  },
  {
   "cell_type": "code",
   "execution_count": 56,
   "metadata": {},
   "outputs": [
    {
     "data": {
      "text/plain": [
       "tensor(0., device='cuda:0')"
      ]
     },
     "execution_count": 56,
     "metadata": {},
     "output_type": "execute_result"
    }
   ],
   "source": [
    "params[-4].grad.sum()#.shape"
   ]
  },
  {
   "cell_type": "code",
   "execution_count": null,
   "metadata": {},
   "outputs": [],
   "source": []
  }
 ],
 "metadata": {
  "kernelspec": {
   "display_name": "Environment (conda_anaconda2)",
   "language": "python",
   "name": "conda_anaconda2"
  },
  "language_info": {
   "codemirror_mode": {
    "name": "ipython",
    "version": 2
   },
   "file_extension": ".py",
   "mimetype": "text/x-python",
   "name": "python",
   "nbconvert_exporter": "python",
   "pygments_lexer": "ipython2",
   "version": "2.7.15"
  }
 },
 "nbformat": 4,
 "nbformat_minor": 2
}
